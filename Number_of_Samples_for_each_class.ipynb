{
  "cells": [
    {
      "cell_type": "code",
      "execution_count": 1,
      "metadata": {
        "id": "rUGw6b2-LJre"
      },
      "outputs": [],
      "source": [
        "from glob import glob\n",
        "import os\n",
        "import numpy as np\n",
        "import cv2\n",
        "from keras.datasets import fashion_mnist, cifar10\n",
        "from keras.preprocessing.image import apply_affine_transform"
      ]
    },
    {
      "cell_type": "code",
      "execution_count": 2,
      "metadata": {
        "id": "JgXT02KNLzm6"
      },
      "outputs": [],
      "source": [
        "def resize_and_crop_image(input_file, output_side_length, greyscale=False):\n",
        "    img = cv2.imread(input_file)\n",
        "    img = cv2.cvtColor(img, cv2.COLOR_BGR2RGB if not greyscale else cv2.COLOR_BGR2GRAY)\n",
        "    height, width = img.shape[:2]\n",
        "    new_height = output_side_length\n",
        "    new_width = output_side_length\n",
        "    if height > width:\n",
        "        new_height = int(output_side_length * height / width)\n",
        "    else:\n",
        "        new_width = int(output_side_length * width / height)\n",
        "    resized_img = cv2.resize(img, (new_width, new_height), interpolation=cv2.INTER_AREA)\n",
        "    height_offset = (new_height - output_side_length) // 2\n",
        "    width_offset = (new_width - output_side_length) // 2\n",
        "    cropped_img = resized_img[height_offset:height_offset + output_side_length,\n",
        "                              width_offset:width_offset + output_side_length]\n",
        "    assert cropped_img.shape[:2] == (output_side_length, output_side_length)\n",
        "    return cropped_img"
      ]
    },
    {
      "cell_type": "code",
      "execution_count": 3,
      "metadata": {
        "id": "MoWPCnk3MOa1"
      },
      "outputs": [],
      "source": [
        "def normalize_minus1_1(data):\n",
        "    return 2*(data/255.) - 1"
      ]
    },
    {
      "cell_type": "code",
      "execution_count": 4,
      "metadata": {
        "id": "lHgParnmMRw7"
      },
      "outputs": [],
      "source": [
        "def get_channels_axis():\n",
        "  import keras\n",
        "  idf = keras.backend.image_data_format()\n",
        "  if idf == 'channels_first':\n",
        "      return 1\n",
        "  assert idf == 'channels_last'\n",
        "  return 3"
      ]
    },
    {
      "cell_type": "code",
      "execution_count": 5,
      "metadata": {
        "id": "ygY-qVKqMVB3"
      },
      "outputs": [],
      "source": [
        "def nbr_samples_fashion_mnist(class_idx):\n",
        "    (X_train, y_train), (X_test, y_test) = fashion_mnist.load_data()\n",
        "    TRAIN_SIZE = 10000\n",
        "    VAL_SIZE = 1000\n",
        "    y_train =  y_train[:TRAIN_SIZE]\n",
        "    y_test =  y_test[:VAL_SIZE]\n",
        "    print('number of training samples for class',class_idx,'=',len(y_train[y_train==class_idx]))\n",
        "    print('number of testing samples for class',class_idx,'=',len(y_test[y_test==class_idx]))\n",
        "    print('\\n')\n",
        "    return 0"
      ]
    },
    {
      "cell_type": "code",
      "execution_count": 6,
      "metadata": {
        "id": "LWSgtZ8C8eoe"
      },
      "outputs": [],
      "source": [
        "def nbr_samples_cifar10(class_idx):\n",
        "    (X_train, y_train), (X_test, y_test) = cifar10.load_data()\n",
        "    TRAIN_SIZE = 10000\n",
        "    VAL_SIZE = 1000\n",
        "    y_train =  y_train[:TRAIN_SIZE]\n",
        "    y_test =  y_test[:VAL_SIZE]\n",
        "    print('number of training samples for class',class_idx,'=',len(y_train[y_train==class_idx]))\n",
        "    print('number of testing samples for class',class_idx,'=',len(y_test[y_test==class_idx]))\n",
        "    print('\\n')\n",
        "    return 0"
      ]
    },
    {
      "cell_type": "code",
      "source": [
        "print('Fashion MNIST Data Set: \\n')\n",
        "for c in range(10):\n",
        "  print('Class:',c)\n",
        "  nbr_samples_fashion_mnist(c)\n",
        "\n",
        "print('CIFAR10 Data Set: \\n')\n",
        "for c in range(10):\n",
        "  print('Class:',c)\n",
        "  nbr_samples_cifar10(c)"
      ],
      "metadata": {
        "colab": {
          "base_uri": "https://localhost:8080/"
        },
        "id": "kJKnQ2d0B9R3",
        "outputId": "250d4491-502c-4a04-c41f-11dfa1d7599f"
      },
      "execution_count": 7,
      "outputs": [
        {
          "output_type": "stream",
          "name": "stdout",
          "text": [
            "Fashion MNIST Data Set: \n",
            "\n",
            "Class: 0\n",
            "number of training samples for class 0 = 942\n",
            "number of testing samples for class 0 = 107\n",
            "\n",
            "\n",
            "Class: 1\n",
            "number of training samples for class 1 = 1027\n",
            "number of testing samples for class 1 = 105\n",
            "\n",
            "\n",
            "Class: 2\n",
            "number of training samples for class 2 = 1016\n",
            "number of testing samples for class 2 = 111\n",
            "\n",
            "\n",
            "Class: 3\n",
            "number of training samples for class 3 = 1019\n",
            "number of testing samples for class 3 = 93\n",
            "\n",
            "\n",
            "Class: 4\n",
            "number of training samples for class 4 = 974\n",
            "number of testing samples for class 4 = 115\n",
            "\n",
            "\n",
            "Class: 5\n",
            "number of training samples for class 5 = 989\n",
            "number of testing samples for class 5 = 87\n",
            "\n",
            "\n",
            "Class: 6\n",
            "number of training samples for class 6 = 1021\n",
            "number of testing samples for class 6 = 97\n",
            "\n",
            "\n",
            "Class: 7\n",
            "number of training samples for class 7 = 1022\n",
            "number of testing samples for class 7 = 95\n",
            "\n",
            "\n",
            "Class: 8\n",
            "number of training samples for class 8 = 990\n",
            "number of testing samples for class 8 = 95\n",
            "\n",
            "\n",
            "Class: 9\n",
            "number of training samples for class 9 = 1000\n",
            "number of testing samples for class 9 = 95\n",
            "\n",
            "\n",
            "CIFAR10 Data Set: \n",
            "\n",
            "Class: 0\n",
            "number of training samples for class 0 = 1005\n",
            "number of testing samples for class 0 = 103\n",
            "\n",
            "\n",
            "Class: 1\n",
            "number of training samples for class 1 = 974\n",
            "number of testing samples for class 1 = 89\n",
            "\n",
            "\n",
            "Class: 2\n",
            "number of training samples for class 2 = 1032\n",
            "number of testing samples for class 2 = 100\n",
            "\n",
            "\n",
            "Class: 3\n",
            "number of training samples for class 3 = 1016\n",
            "number of testing samples for class 3 = 103\n",
            "\n",
            "\n",
            "Class: 4\n",
            "number of training samples for class 4 = 999\n",
            "number of testing samples for class 4 = 90\n",
            "\n",
            "\n",
            "Class: 5\n",
            "number of training samples for class 5 = 937\n",
            "number of testing samples for class 5 = 86\n",
            "\n",
            "\n",
            "Class: 6\n",
            "number of training samples for class 6 = 1030\n",
            "number of testing samples for class 6 = 112\n",
            "\n",
            "\n",
            "Class: 7\n",
            "number of training samples for class 7 = 1001\n",
            "number of testing samples for class 7 = 102\n",
            "\n",
            "\n",
            "Class: 8\n",
            "number of training samples for class 8 = 1025\n",
            "number of testing samples for class 8 = 106\n",
            "\n",
            "\n",
            "Class: 9\n",
            "number of training samples for class 9 = 981\n",
            "number of testing samples for class 9 = 109\n",
            "\n",
            "\n"
          ]
        }
      ]
    },
    {
      "cell_type": "code",
      "source": [],
      "metadata": {
        "id": "CxwAhXyhCd6H"
      },
      "execution_count": 7,
      "outputs": []
    }
  ],
  "metadata": {
    "accelerator": "GPU",
    "colab": {
      "provenance": []
    },
    "gpuClass": "standard",
    "kernelspec": {
      "display_name": "gpu2",
      "language": "python",
      "name": "gpu2"
    },
    "language_info": {
      "codemirror_mode": {
        "name": "ipython",
        "version": 3
      },
      "file_extension": ".py",
      "mimetype": "text/x-python",
      "name": "python",
      "nbconvert_exporter": "python",
      "pygments_lexer": "ipython3",
      "version": "3.6.13"
    }
  },
  "nbformat": 4,
  "nbformat_minor": 0
}